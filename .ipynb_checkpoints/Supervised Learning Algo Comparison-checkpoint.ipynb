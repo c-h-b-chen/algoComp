{
 "cells": [
  {
   "cell_type": "code",
   "execution_count": 2,
   "metadata": {},
   "outputs": [],
   "source": [
    "import warnings\n",
    "warnings.simplefilter(action='ignore', category=FutureWarning)\n",
    "import csv\n",
    "import numpy as np\n",
    "import pandas as pd\n",
    "from sklearn import svm\n",
    "from sklearn.tree import DecisionTreeClassifier\n",
    "from sklearn.preprocessing import LabelEncoder\n",
    "from sklearn.neighbors import KNeighborsClassifier\n",
    "from sklearn.linear_model import LogisticRegression\n",
    "from sklearn.ensemble import RandomForestClassifier\n",
    "from sklearn.model_selection import GridSearchCV\n",
    "from sklearn.model_selection import train_test_split\n",
    "from sklearn.utils import shuffle"
   ]
  },
  {
   "cell_type": "markdown",
   "metadata": {},
   "source": [
    "First, we'll start by loading our datasets into dataframes. For HTRU2 set, we'll have to manually add column headers for each feature."
   ]
  },
  {
   "cell_type": "code",
   "execution_count": 3,
   "metadata": {},
   "outputs": [],
   "source": [
    "# HTRU2 Pulsar Candidates\n",
    "htru_data = pd.read_csv('HTRU_2.csv', names = ['a','b','c','d','e','f','g', 'h','y'])\n",
    "\n",
    "# Mushroom Records\n",
    "mush_data = pd.read_csv('agaricus-lepiota.data')\n",
    "\n",
    "# Wilt Data\n",
    "wilt_data = pd.read_csv('training.csv')"
   ]
  },
  {
   "cell_type": "markdown",
   "metadata": {},
   "source": [
    "## Preprocessing"
   ]
  },
  {
   "cell_type": "code",
   "execution_count": 4,
   "metadata": {},
   "outputs": [
    {
     "data": {
      "text/html": [
       "<div>\n",
       "<style scoped>\n",
       "    .dataframe tbody tr th:only-of-type {\n",
       "        vertical-align: middle;\n",
       "    }\n",
       "\n",
       "    .dataframe tbody tr th {\n",
       "        vertical-align: top;\n",
       "    }\n",
       "\n",
       "    .dataframe thead th {\n",
       "        text-align: right;\n",
       "    }\n",
       "</style>\n",
       "<table border=\"1\" class=\"dataframe\">\n",
       "  <thead>\n",
       "    <tr style=\"text-align: right;\">\n",
       "      <th></th>\n",
       "      <th>a</th>\n",
       "      <th>b</th>\n",
       "      <th>c</th>\n",
       "      <th>d</th>\n",
       "      <th>e</th>\n",
       "      <th>f</th>\n",
       "      <th>g</th>\n",
       "      <th>h</th>\n",
       "      <th>y</th>\n",
       "    </tr>\n",
       "  </thead>\n",
       "  <tbody>\n",
       "    <tr>\n",
       "      <th>0</th>\n",
       "      <td>140.562500</td>\n",
       "      <td>55.683782</td>\n",
       "      <td>-0.234571</td>\n",
       "      <td>-0.699648</td>\n",
       "      <td>3.199833</td>\n",
       "      <td>19.110426</td>\n",
       "      <td>7.975532</td>\n",
       "      <td>74.242225</td>\n",
       "      <td>0</td>\n",
       "    </tr>\n",
       "    <tr>\n",
       "      <th>1</th>\n",
       "      <td>102.507812</td>\n",
       "      <td>58.882430</td>\n",
       "      <td>0.465318</td>\n",
       "      <td>-0.515088</td>\n",
       "      <td>1.677258</td>\n",
       "      <td>14.860146</td>\n",
       "      <td>10.576487</td>\n",
       "      <td>127.393580</td>\n",
       "      <td>0</td>\n",
       "    </tr>\n",
       "    <tr>\n",
       "      <th>2</th>\n",
       "      <td>103.015625</td>\n",
       "      <td>39.341649</td>\n",
       "      <td>0.323328</td>\n",
       "      <td>1.051164</td>\n",
       "      <td>3.121237</td>\n",
       "      <td>21.744669</td>\n",
       "      <td>7.735822</td>\n",
       "      <td>63.171909</td>\n",
       "      <td>0</td>\n",
       "    </tr>\n",
       "    <tr>\n",
       "      <th>3</th>\n",
       "      <td>136.750000</td>\n",
       "      <td>57.178449</td>\n",
       "      <td>-0.068415</td>\n",
       "      <td>-0.636238</td>\n",
       "      <td>3.642977</td>\n",
       "      <td>20.959280</td>\n",
       "      <td>6.896499</td>\n",
       "      <td>53.593661</td>\n",
       "      <td>0</td>\n",
       "    </tr>\n",
       "    <tr>\n",
       "      <th>4</th>\n",
       "      <td>88.726562</td>\n",
       "      <td>40.672225</td>\n",
       "      <td>0.600866</td>\n",
       "      <td>1.123492</td>\n",
       "      <td>1.178930</td>\n",
       "      <td>11.468720</td>\n",
       "      <td>14.269573</td>\n",
       "      <td>252.567306</td>\n",
       "      <td>0</td>\n",
       "    </tr>\n",
       "  </tbody>\n",
       "</table>\n",
       "</div>"
      ],
      "text/plain": [
       "            a          b         c         d         e          f          g  \\\n",
       "0  140.562500  55.683782 -0.234571 -0.699648  3.199833  19.110426   7.975532   \n",
       "1  102.507812  58.882430  0.465318 -0.515088  1.677258  14.860146  10.576487   \n",
       "2  103.015625  39.341649  0.323328  1.051164  3.121237  21.744669   7.735822   \n",
       "3  136.750000  57.178449 -0.068415 -0.636238  3.642977  20.959280   6.896499   \n",
       "4   88.726562  40.672225  0.600866  1.123492  1.178930  11.468720  14.269573   \n",
       "\n",
       "            h  y  \n",
       "0   74.242225  0  \n",
       "1  127.393580  0  \n",
       "2   63.171909  0  \n",
       "3   53.593661  0  \n",
       "4  252.567306  0  "
      ]
     },
     "execution_count": 4,
     "metadata": {},
     "output_type": "execute_result"
    }
   ],
   "source": [
    "htru_data.head()"
   ]
  },
  {
   "cell_type": "code",
   "execution_count": 5,
   "metadata": {},
   "outputs": [
    {
     "data": {
      "text/plain": [
       "a    False\n",
       "b    False\n",
       "c    False\n",
       "d    False\n",
       "e    False\n",
       "f    False\n",
       "g    False\n",
       "h    False\n",
       "y    False\n",
       "dtype: bool"
      ]
     },
     "execution_count": 5,
     "metadata": {},
     "output_type": "execute_result"
    }
   ],
   "source": [
    "htru_data.isnull().any()"
   ]
  },
  {
   "cell_type": "code",
   "execution_count": 6,
   "metadata": {},
   "outputs": [
    {
     "data": {
      "text/plain": [
       "2"
      ]
     },
     "execution_count": 6,
     "metadata": {},
     "output_type": "execute_result"
    }
   ],
   "source": [
    "# Our target\n",
    "htru_data['y'].nunique()"
   ]
  },
  {
   "cell_type": "markdown",
   "metadata": {},
   "source": [
    "The dataset looks promising with no missing values, all numerical data, and the target is binary making it a simple classification problem. The description of each attribute is below:\n",
    "\n",
    "* a: Mean of the integrated profile. \n",
    "* b: Standard deviation of the integrated profile. \n",
    "* c: Excess kurtosis of the integrated profile. \n",
    "* d: Skewness of the integrated profile. \n",
    "* e: Mean of the DM-SNR curve. \n",
    "* f: Standard deviation of the DM-SNR curve. \n",
    "* g: Excess kurtosis of the DM-SNR curve. \n",
    "* h: Skewness of the DM-SNR curve. \n",
    "* y: Class (target)\n",
    "\n",
    "Reviewing each description, there doesn't seem like there are any leaky candidates so we will proceed."
   ]
  },
  {
   "cell_type": "code",
   "execution_count": 7,
   "metadata": {},
   "outputs": [],
   "source": [
    "import matplotlib.pyplot as plt"
   ]
  },
  {
   "cell_type": "code",
   "execution_count": 8,
   "metadata": {},
   "outputs": [
    {
     "data": {
      "image/png": "[encoded data removed]",
      "text/plain": [
       "<Figure size 864x432 with 8 Axes>"
      ]
     },
     "metadata": {},
     "output_type": "display_data"
    }
   ],
   "source": [
    "plt.figure(figsize=(12, 6))\n",
    "for i in range(1,9):\n",
    "    plt.subplot(2,4,i)\n",
    "    plt.hist(htru_data.iloc[:,i-1], bins=75)\n",
    "plt.show()"
   ]
  },
  {
   "cell_type": "markdown",
   "metadata": {},
   "source": [
    "Each feature has a reasonable distribution"
   ]
  },
  {
   "cell_type": "code",
   "execution_count": 9,
   "metadata": {},
   "outputs": [
    {
     "data": {
      "text/html": [
       "<div>\n",
       "<style scoped>\n",
       "    .dataframe tbody tr th:only-of-type {\n",
       "        vertical-align: middle;\n",
       "    }\n",
       "\n",
       "    .dataframe tbody tr th {\n",
       "        vertical-align: top;\n",
       "    }\n",
       "\n",
       "    .dataframe thead th {\n",
       "        text-align: right;\n",
       "    }\n",
       "</style>\n",
       "<table border=\"1\" class=\"dataframe\">\n",
       "  <thead>\n",
       "    <tr style=\"text-align: right;\">\n",
       "      <th></th>\n",
       "      <th>p</th>\n",
       "      <th>x</th>\n",
       "      <th>s</th>\n",
       "      <th>n</th>\n",
       "      <th>t</th>\n",
       "      <th>p.1</th>\n",
       "      <th>f</th>\n",
       "      <th>c</th>\n",
       "      <th>n.1</th>\n",
       "      <th>k</th>\n",
       "      <th>...</th>\n",
       "      <th>s.2</th>\n",
       "      <th>w</th>\n",
       "      <th>w.1</th>\n",
       "      <th>p.2</th>\n",
       "      <th>w.2</th>\n",
       "      <th>o</th>\n",
       "      <th>p.3</th>\n",
       "      <th>k.1</th>\n",
       "      <th>s.3</th>\n",
       "      <th>u</th>\n",
       "    </tr>\n",
       "  </thead>\n",
       "  <tbody>\n",
       "    <tr>\n",
       "      <th>0</th>\n",
       "      <td>e</td>\n",
       "      <td>x</td>\n",
       "      <td>s</td>\n",
       "      <td>y</td>\n",
       "      <td>t</td>\n",
       "      <td>a</td>\n",
       "      <td>f</td>\n",
       "      <td>c</td>\n",
       "      <td>b</td>\n",
       "      <td>k</td>\n",
       "      <td>...</td>\n",
       "      <td>s</td>\n",
       "      <td>w</td>\n",
       "      <td>w</td>\n",
       "      <td>p</td>\n",
       "      <td>w</td>\n",
       "      <td>o</td>\n",
       "      <td>p</td>\n",
       "      <td>n</td>\n",
       "      <td>n</td>\n",
       "      <td>g</td>\n",
       "    </tr>\n",
       "    <tr>\n",
       "      <th>1</th>\n",
       "      <td>e</td>\n",
       "      <td>b</td>\n",
       "      <td>s</td>\n",
       "      <td>w</td>\n",
       "      <td>t</td>\n",
       "      <td>l</td>\n",
       "      <td>f</td>\n",
       "      <td>c</td>\n",
       "      <td>b</td>\n",
       "      <td>n</td>\n",
       "      <td>...</td>\n",
       "      <td>s</td>\n",
       "      <td>w</td>\n",
       "      <td>w</td>\n",
       "      <td>p</td>\n",
       "      <td>w</td>\n",
       "      <td>o</td>\n",
       "      <td>p</td>\n",
       "      <td>n</td>\n",
       "      <td>n</td>\n",
       "      <td>m</td>\n",
       "    </tr>\n",
       "    <tr>\n",
       "      <th>2</th>\n",
       "      <td>p</td>\n",
       "      <td>x</td>\n",
       "      <td>y</td>\n",
       "      <td>w</td>\n",
       "      <td>t</td>\n",
       "      <td>p</td>\n",
       "      <td>f</td>\n",
       "      <td>c</td>\n",
       "      <td>n</td>\n",
       "      <td>n</td>\n",
       "      <td>...</td>\n",
       "      <td>s</td>\n",
       "      <td>w</td>\n",
       "      <td>w</td>\n",
       "      <td>p</td>\n",
       "      <td>w</td>\n",
       "      <td>o</td>\n",
       "      <td>p</td>\n",
       "      <td>k</td>\n",
       "      <td>s</td>\n",
       "      <td>u</td>\n",
       "    </tr>\n",
       "    <tr>\n",
       "      <th>3</th>\n",
       "      <td>e</td>\n",
       "      <td>x</td>\n",
       "      <td>s</td>\n",
       "      <td>g</td>\n",
       "      <td>f</td>\n",
       "      <td>n</td>\n",
       "      <td>f</td>\n",
       "      <td>w</td>\n",
       "      <td>b</td>\n",
       "      <td>k</td>\n",
       "      <td>...</td>\n",
       "      <td>s</td>\n",
       "      <td>w</td>\n",
       "      <td>w</td>\n",
       "      <td>p</td>\n",
       "      <td>w</td>\n",
       "      <td>o</td>\n",
       "      <td>e</td>\n",
       "      <td>n</td>\n",
       "      <td>a</td>\n",
       "      <td>g</td>\n",
       "    </tr>\n",
       "    <tr>\n",
       "      <th>4</th>\n",
       "      <td>e</td>\n",
       "      <td>x</td>\n",
       "      <td>y</td>\n",
       "      <td>y</td>\n",
       "      <td>t</td>\n",
       "      <td>a</td>\n",
       "      <td>f</td>\n",
       "      <td>c</td>\n",
       "      <td>b</td>\n",
       "      <td>n</td>\n",
       "      <td>...</td>\n",
       "      <td>s</td>\n",
       "      <td>w</td>\n",
       "      <td>w</td>\n",
       "      <td>p</td>\n",
       "      <td>w</td>\n",
       "      <td>o</td>\n",
       "      <td>p</td>\n",
       "      <td>k</td>\n",
       "      <td>n</td>\n",
       "      <td>g</td>\n",
       "    </tr>\n",
       "  </tbody>\n",
       "</table>\n",
       "<p>5 rows × 23 columns</p>\n",
       "</div>"
      ],
      "text/plain": [
       "   p  x  s  n  t p.1  f  c n.1  k ... s.2  w w.1 p.2 w.2  o p.3 k.1 s.3  u\n",
       "0  e  x  s  y  t   a  f  c   b  k ...   s  w   w   p   w  o   p   n   n  g\n",
       "1  e  b  s  w  t   l  f  c   b  n ...   s  w   w   p   w  o   p   n   n  m\n",
       "2  p  x  y  w  t   p  f  c   n  n ...   s  w   w   p   w  o   p   k   s  u\n",
       "3  e  x  s  g  f   n  f  w   b  k ...   s  w   w   p   w  o   e   n   a  g\n",
       "4  e  x  y  y  t   a  f  c   b  n ...   s  w   w   p   w  o   p   k   n  g\n",
       "\n",
       "[5 rows x 23 columns]"
      ]
     },
     "execution_count": 9,
     "metadata": {},
     "output_type": "execute_result"
    }
   ],
   "source": [
    "mush_data.head()"
   ]
  },
  {
   "cell_type": "markdown",
   "metadata": {},
   "source": [
    "For the mushroom dataset we will use the first column 'p' as our target. This column describes whether the mushroom is 'e', edible, or 'p', poisonous. At a glance, we can see that unlike our HTRU2 dataset, all features of this one is categorical. Upon closer inspection of the descriptions, each feature is a qualitative description of a mushroom\n",
    "\n",
    "0. edible-poisonous: edible=e,poisonous/unkown=p\n",
    "1. cap-shape: bell=b,conical=c,convex=x,flat=f, knobbed=k,sunken=s \n",
    "2. cap-surface: fibrous=f,grooves=g,scaly=y,smooth=s \n",
    "3. cap-color: brown=n,buff=b,cinnamon=c,gray=g,green=r, pink=p,purple=u,red=e,white=w,yellow=y \n",
    "4. bruises?: bruises=t,no=f \n",
    "5. odor: almond=a,anise=l,creosote=c,fishy=y,foul=f, musty=m,none=n,pungent=p,spicy=s \n",
    "6. gill-attachment: attached=a,descending=d,free=f,notched=n \n",
    "7. gill-spacing: close=c,crowded=w,distant=d \n",
    "8. gill-size: broad=b,narrow=n \n",
    "9. gill-color: black=k,brown=n,buff=b,chocolate=h,gray=g, green=r,orange=o,pink=p,purple=u,red=e, white=w,yellow=y \n",
    "10. stalk-shape: enlarging=e,tapering=t \n",
    "11. stalk-root: bulbous=b,club=c,cup=u,equal=e, rhizomorphs=z,rooted=r,missing=? \n",
    "12. stalk-surface-above-ring: fibrous=f,scaly=y,silky=k,smooth=s \n",
    "13. stalk-surface-below-ring: fibrous=f,scaly=y,silky=k,smooth=s \n",
    "14. stalk-color-above-ring: brown=n,buff=b,cinnamon=c,gray=g,orange=o, pink=p,red=e,white=w,yellow=y \n",
    "15. stalk-color-below-ring: brown=n,buff=b,cinnamon=c,gray=g,orange=o, pink=p,red=e,white=w,yellow=y \n",
    "16. veil-type: partial=p,universal=u \n",
    "17. veil-color: brown=n,orange=o,white=w,yellow=y \n",
    "18. ring-number: none=n,one=o,two=t \n",
    "19. ring-type: cobwebby=c,evanescent=e,flaring=f,large=l, none=n,pendant=p,sheathing=s,zone=z \n",
    "20. spore-print-color: black=k,brown=n,buff=b,chocolate=h,green=r, orange=o,purple=u,white=w,yellow=y \n",
    "21. population: abundant=a,clustered=c,numerous=n, scattered=s,several=v,solitary=y \n",
    "22. habitat: grasses=g,leaves=l,meadows=m,paths=p, urban=u,waste=w,woods=d\n"
   ]
  },
  {
   "cell_type": "code",
   "execution_count": 12,
   "metadata": {},
   "outputs": [
    {
     "data": {
      "text/plain": [
       "<matplotlib.axes._subplots.AxesSubplot at 0x11294e2e8>"
      ]
     },
     "execution_count": 12,
     "metadata": {},
     "output_type": "execute_result"
    },
    {
     "data": {
      "image/png": "[encoded data removed]",
      "text/plain": [
       "<Figure size 432x288 with 1 Axes>"
      ]
     },
     "metadata": {},
     "output_type": "display_data"
    }
   ],
   "source": [
    "group = mush_data.groupby(['p']).count()\n",
    "group['x'].plot.bar()"
   ]
  },
  {
   "cell_type": "markdown",
   "metadata": {},
   "source": [
    "Our target labels seem pretty even"
   ]
  },
  {
   "cell_type": "code",
   "execution_count": 7,
   "metadata": {},
   "outputs": [
    {
     "name": "stdout",
     "output_type": "stream",
     "text": [
      "p: 2\n",
      "['e' 'p']\n",
      "x: 6\n",
      "['x' 'b' 's' 'f' 'k' 'c']\n",
      "s: 4\n",
      "['s' 'y' 'f' 'g']\n",
      "n: 10\n",
      "['y' 'w' 'g' 'n' 'e' 'p' 'b' 'u' 'c' 'r']\n",
      "t: 2\n",
      "['t' 'f']\n",
      "p.1: 9\n",
      "['a' 'l' 'p' 'n' 'f' 'c' 'y' 's' 'm']\n",
      "f: 2\n",
      "['f' 'a']\n",
      "c: 2\n",
      "['c' 'w']\n",
      "n.1: 2\n",
      "['b' 'n']\n",
      "k: 12\n",
      "['k' 'n' 'g' 'p' 'w' 'h' 'u' 'e' 'b' 'r' 'y' 'o']\n",
      "e: 2\n",
      "['e' 't']\n",
      "e.1: 5\n",
      "['c' 'e' 'b' 'r' '?']\n",
      "s.1: 4\n",
      "['s' 'f' 'k' 'y']\n",
      "s.2: 4\n",
      "['s' 'f' 'y' 'k']\n",
      "w: 9\n",
      "['w' 'g' 'p' 'n' 'b' 'e' 'o' 'c' 'y']\n",
      "w.1: 9\n",
      "['w' 'p' 'g' 'b' 'n' 'e' 'y' 'o' 'c']\n",
      "p.2: 1\n",
      "['p']\n",
      "w.2: 4\n",
      "['w' 'n' 'o' 'y']\n",
      "o: 3\n",
      "['o' 't' 'n']\n",
      "p.3: 5\n",
      "['p' 'e' 'l' 'f' 'n']\n",
      "k.1: 9\n",
      "['n' 'k' 'u' 'h' 'w' 'r' 'o' 'y' 'b']\n",
      "s.3: 6\n",
      "['n' 's' 'a' 'v' 'y' 'c']\n",
      "u: 7\n",
      "['g' 'm' 'u' 'd' 'p' 'w' 'l']\n"
     ]
    }
   ],
   "source": [
    "for column in list(mush_data):\n",
    "    print('{0}: {1}'.format(column, mush_data[column].nunique()))\n",
    "    print(mush_data[column].unique())"
   ]
  },
  {
   "cell_type": "markdown",
   "metadata": {},
   "source": [
    "Since these features are categorical, we wouldn't want to convert them into numerical labels or our model might create some ordinal ranking between each value. Instead, for those columns with more than two unique values, we will one-hot encode them to eliminate confounds. The most unique values we can expect is 12 which wouldn't grow our data by too much that we can't handle it."
   ]
  },
  {
   "cell_type": "code",
   "execution_count": 8,
   "metadata": {
    "scrolled": true
   },
   "outputs": [],
   "source": [
    "to_onehot = [column for column in list(mush_data) if mush_data[column].nunique() > 2]\n",
    "to_labelencode = list(set(list(mush_data)) - set(to_onehot))"
   ]
  },
  {
   "cell_type": "code",
   "execution_count": 9,
   "metadata": {},
   "outputs": [],
   "source": [
    "#One-Hot\n",
    "mush_data = pd.get_dummies(mush_data, columns=to_onehot, drop_first=True)"
   ]
  },
  {
   "cell_type": "code",
   "execution_count": 10,
   "metadata": {},
   "outputs": [
    {
     "data": {
      "text/html": [
       "<div>\n",
       "<style scoped>\n",
       "    .dataframe tbody tr th:only-of-type {\n",
       "        vertical-align: middle;\n",
       "    }\n",
       "\n",
       "    .dataframe tbody tr th {\n",
       "        vertical-align: top;\n",
       "    }\n",
       "\n",
       "    .dataframe thead th {\n",
       "        text-align: right;\n",
       "    }\n",
       "</style>\n",
       "<table border=\"1\" class=\"dataframe\">\n",
       "  <thead>\n",
       "    <tr style=\"text-align: right;\">\n",
       "      <th></th>\n",
       "      <th>p</th>\n",
       "      <th>t</th>\n",
       "      <th>f</th>\n",
       "      <th>c</th>\n",
       "      <th>n.1</th>\n",
       "      <th>e</th>\n",
       "      <th>p.2</th>\n",
       "      <th>x_c</th>\n",
       "      <th>x_f</th>\n",
       "      <th>x_k</th>\n",
       "      <th>...</th>\n",
       "      <th>s.3_n</th>\n",
       "      <th>s.3_s</th>\n",
       "      <th>s.3_v</th>\n",
       "      <th>s.3_y</th>\n",
       "      <th>u_g</th>\n",
       "      <th>u_l</th>\n",
       "      <th>u_m</th>\n",
       "      <th>u_p</th>\n",
       "      <th>u_u</th>\n",
       "      <th>u_w</th>\n",
       "    </tr>\n",
       "  </thead>\n",
       "  <tbody>\n",
       "    <tr>\n",
       "      <th>0</th>\n",
       "      <td>0</td>\n",
       "      <td>1</td>\n",
       "      <td>1</td>\n",
       "      <td>0</td>\n",
       "      <td>0</td>\n",
       "      <td>0</td>\n",
       "      <td>0</td>\n",
       "      <td>0</td>\n",
       "      <td>0</td>\n",
       "      <td>0</td>\n",
       "      <td>...</td>\n",
       "      <td>1</td>\n",
       "      <td>0</td>\n",
       "      <td>0</td>\n",
       "      <td>0</td>\n",
       "      <td>1</td>\n",
       "      <td>0</td>\n",
       "      <td>0</td>\n",
       "      <td>0</td>\n",
       "      <td>0</td>\n",
       "      <td>0</td>\n",
       "    </tr>\n",
       "    <tr>\n",
       "      <th>1</th>\n",
       "      <td>0</td>\n",
       "      <td>1</td>\n",
       "      <td>1</td>\n",
       "      <td>0</td>\n",
       "      <td>0</td>\n",
       "      <td>0</td>\n",
       "      <td>0</td>\n",
       "      <td>0</td>\n",
       "      <td>0</td>\n",
       "      <td>0</td>\n",
       "      <td>...</td>\n",
       "      <td>1</td>\n",
       "      <td>0</td>\n",
       "      <td>0</td>\n",
       "      <td>0</td>\n",
       "      <td>0</td>\n",
       "      <td>0</td>\n",
       "      <td>1</td>\n",
       "      <td>0</td>\n",
       "      <td>0</td>\n",
       "      <td>0</td>\n",
       "    </tr>\n",
       "    <tr>\n",
       "      <th>2</th>\n",
       "      <td>1</td>\n",
       "      <td>1</td>\n",
       "      <td>1</td>\n",
       "      <td>0</td>\n",
       "      <td>1</td>\n",
       "      <td>0</td>\n",
       "      <td>0</td>\n",
       "      <td>0</td>\n",
       "      <td>0</td>\n",
       "      <td>0</td>\n",
       "      <td>...</td>\n",
       "      <td>0</td>\n",
       "      <td>1</td>\n",
       "      <td>0</td>\n",
       "      <td>0</td>\n",
       "      <td>0</td>\n",
       "      <td>0</td>\n",
       "      <td>0</td>\n",
       "      <td>0</td>\n",
       "      <td>1</td>\n",
       "      <td>0</td>\n",
       "    </tr>\n",
       "    <tr>\n",
       "      <th>3</th>\n",
       "      <td>0</td>\n",
       "      <td>0</td>\n",
       "      <td>1</td>\n",
       "      <td>1</td>\n",
       "      <td>0</td>\n",
       "      <td>1</td>\n",
       "      <td>0</td>\n",
       "      <td>0</td>\n",
       "      <td>0</td>\n",
       "      <td>0</td>\n",
       "      <td>...</td>\n",
       "      <td>0</td>\n",
       "      <td>0</td>\n",
       "      <td>0</td>\n",
       "      <td>0</td>\n",
       "      <td>1</td>\n",
       "      <td>0</td>\n",
       "      <td>0</td>\n",
       "      <td>0</td>\n",
       "      <td>0</td>\n",
       "      <td>0</td>\n",
       "    </tr>\n",
       "    <tr>\n",
       "      <th>4</th>\n",
       "      <td>0</td>\n",
       "      <td>1</td>\n",
       "      <td>1</td>\n",
       "      <td>0</td>\n",
       "      <td>0</td>\n",
       "      <td>0</td>\n",
       "      <td>0</td>\n",
       "      <td>0</td>\n",
       "      <td>0</td>\n",
       "      <td>0</td>\n",
       "      <td>...</td>\n",
       "      <td>1</td>\n",
       "      <td>0</td>\n",
       "      <td>0</td>\n",
       "      <td>0</td>\n",
       "      <td>1</td>\n",
       "      <td>0</td>\n",
       "      <td>0</td>\n",
       "      <td>0</td>\n",
       "      <td>0</td>\n",
       "      <td>0</td>\n",
       "    </tr>\n",
       "  </tbody>\n",
       "</table>\n",
       "<p>5 rows × 97 columns</p>\n",
       "</div>"
      ],
      "text/plain": [
       "   p  t  f  c  n.1  e  p.2  x_c  x_f  x_k ...   s.3_n  s.3_s  s.3_v  s.3_y  \\\n",
       "0  0  1  1  0    0  0    0    0    0    0 ...       1      0      0      0   \n",
       "1  0  1  1  0    0  0    0    0    0    0 ...       1      0      0      0   \n",
       "2  1  1  1  0    1  0    0    0    0    0 ...       0      1      0      0   \n",
       "3  0  0  1  1    0  1    0    0    0    0 ...       0      0      0      0   \n",
       "4  0  1  1  0    0  0    0    0    0    0 ...       1      0      0      0   \n",
       "\n",
       "   u_g  u_l  u_m  u_p  u_u  u_w  \n",
       "0    1    0    0    0    0    0  \n",
       "1    0    0    1    0    0    0  \n",
       "2    0    0    0    0    1    0  \n",
       "3    1    0    0    0    0    0  \n",
       "4    1    0    0    0    0    0  \n",
       "\n",
       "[5 rows x 97 columns]"
      ]
     },
     "execution_count": 10,
     "metadata": {},
     "output_type": "execute_result"
    }
   ],
   "source": [
    "# Convert categorical data into numerical values in binary cases\n",
    "for col in to_labelencode:\n",
    "    le = LabelEncoder()\n",
    "    mush_data[col] = le.fit_transform(mush_data[col])\n",
    "mush_data.head()"
   ]
  },
  {
   "cell_type": "code",
   "execution_count": 13,
   "metadata": {},
   "outputs": [
    {
     "data": {
      "text/html": [
       "<div>\n",
       "<style scoped>\n",
       "    .dataframe tbody tr th:only-of-type {\n",
       "        vertical-align: middle;\n",
       "    }\n",
       "\n",
       "    .dataframe tbody tr th {\n",
       "        vertical-align: top;\n",
       "    }\n",
       "\n",
       "    .dataframe thead th {\n",
       "        text-align: right;\n",
       "    }\n",
       "</style>\n",
       "<table border=\"1\" class=\"dataframe\">\n",
       "  <thead>\n",
       "    <tr style=\"text-align: right;\">\n",
       "      <th></th>\n",
       "      <th>class</th>\n",
       "      <th>GLCM_pan</th>\n",
       "      <th>Mean_Green</th>\n",
       "      <th>Mean_Red</th>\n",
       "      <th>Mean_NIR</th>\n",
       "      <th>SD_pan</th>\n",
       "    </tr>\n",
       "  </thead>\n",
       "  <tbody>\n",
       "    <tr>\n",
       "      <th>0</th>\n",
       "      <td>w</td>\n",
       "      <td>120.362774</td>\n",
       "      <td>205.500000</td>\n",
       "      <td>119.395349</td>\n",
       "      <td>416.581395</td>\n",
       "      <td>20.676318</td>\n",
       "    </tr>\n",
       "    <tr>\n",
       "      <th>1</th>\n",
       "      <td>w</td>\n",
       "      <td>124.739583</td>\n",
       "      <td>202.800000</td>\n",
       "      <td>115.333333</td>\n",
       "      <td>354.333333</td>\n",
       "      <td>16.707151</td>\n",
       "    </tr>\n",
       "    <tr>\n",
       "      <th>2</th>\n",
       "      <td>w</td>\n",
       "      <td>134.691964</td>\n",
       "      <td>199.285714</td>\n",
       "      <td>116.857143</td>\n",
       "      <td>477.857143</td>\n",
       "      <td>22.496712</td>\n",
       "    </tr>\n",
       "    <tr>\n",
       "      <th>3</th>\n",
       "      <td>w</td>\n",
       "      <td>127.946309</td>\n",
       "      <td>178.368421</td>\n",
       "      <td>92.368421</td>\n",
       "      <td>278.473684</td>\n",
       "      <td>14.977453</td>\n",
       "    </tr>\n",
       "    <tr>\n",
       "      <th>4</th>\n",
       "      <td>w</td>\n",
       "      <td>135.431548</td>\n",
       "      <td>197.000000</td>\n",
       "      <td>112.690476</td>\n",
       "      <td>532.952381</td>\n",
       "      <td>17.604193</td>\n",
       "    </tr>\n",
       "  </tbody>\n",
       "</table>\n",
       "</div>"
      ],
      "text/plain": [
       "  class    GLCM_pan  Mean_Green    Mean_Red    Mean_NIR     SD_pan\n",
       "0     w  120.362774  205.500000  119.395349  416.581395  20.676318\n",
       "1     w  124.739583  202.800000  115.333333  354.333333  16.707151\n",
       "2     w  134.691964  199.285714  116.857143  477.857143  22.496712\n",
       "3     w  127.946309  178.368421   92.368421  278.473684  14.977453\n",
       "4     w  135.431548  197.000000  112.690476  532.952381  17.604193"
      ]
     },
     "execution_count": 13,
     "metadata": {},
     "output_type": "execute_result"
    }
   ],
   "source": [
    "wilt_data.head()"
   ]
  },
  {
   "cell_type": "code",
   "execution_count": 14,
   "metadata": {},
   "outputs": [
    {
     "data": {
      "text/plain": [
       "class         False\n",
       "GLCM_pan      False\n",
       "Mean_Green    False\n",
       "Mean_Red      False\n",
       "Mean_NIR      False\n",
       "SD_pan        False\n",
       "dtype: bool"
      ]
     },
     "execution_count": 14,
     "metadata": {},
     "output_type": "execute_result"
    }
   ],
   "source": [
    "wilt_data.isnull().any()"
   ]
  },
  {
   "cell_type": "code",
   "execution_count": 15,
   "metadata": {},
   "outputs": [
    {
     "data": {
      "text/plain": [
       "class            2\n",
       "GLCM_pan      4290\n",
       "Mean_Green    3811\n",
       "Mean_Red      3744\n",
       "Mean_NIR      4178\n",
       "SD_pan        4311\n",
       "dtype: int64"
      ]
     },
     "execution_count": 15,
     "metadata": {},
     "output_type": "execute_result"
    }
   ],
   "source": [
    "wilt_data.nunique()"
   ]
  },
  {
   "cell_type": "markdown",
   "metadata": {},
   "source": [
    "Our features are all numerical data except for 'class' which we will be using for our target. The description of each feature is as follows:\n",
    "\n",
    "class: 'w' (diseased trees), 'n' (all other land cover) \n",
    "GLCM_Pan: GLCM mean texture (Pan band) \n",
    "Mean_G: Mean green value \n",
    "Mean_R: Mean red value \n",
    "Mean_NIR: Mean NIR value \n",
    "SD_Pan: Standard deviation (Pan band) \n",
    "\n",
    "We will adjust 'class' to numerical labels."
   ]
  },
  {
   "cell_type": "code",
   "execution_count": 16,
   "metadata": {},
   "outputs": [
    {
     "data": {
      "text/html": [
       "<div>\n",
       "<style scoped>\n",
       "    .dataframe tbody tr th:only-of-type {\n",
       "        vertical-align: middle;\n",
       "    }\n",
       "\n",
       "    .dataframe tbody tr th {\n",
       "        vertical-align: top;\n",
       "    }\n",
       "\n",
       "    .dataframe thead th {\n",
       "        text-align: right;\n",
       "    }\n",
       "</style>\n",
       "<table border=\"1\" class=\"dataframe\">\n",
       "  <thead>\n",
       "    <tr style=\"text-align: right;\">\n",
       "      <th></th>\n",
       "      <th>class</th>\n",
       "      <th>GLCM_pan</th>\n",
       "      <th>Mean_Green</th>\n",
       "      <th>Mean_Red</th>\n",
       "      <th>Mean_NIR</th>\n",
       "      <th>SD_pan</th>\n",
       "    </tr>\n",
       "  </thead>\n",
       "  <tbody>\n",
       "    <tr>\n",
       "      <th>0</th>\n",
       "      <td>1</td>\n",
       "      <td>120.362774</td>\n",
       "      <td>205.500000</td>\n",
       "      <td>119.395349</td>\n",
       "      <td>416.581395</td>\n",
       "      <td>20.676318</td>\n",
       "    </tr>\n",
       "    <tr>\n",
       "      <th>1</th>\n",
       "      <td>1</td>\n",
       "      <td>124.739583</td>\n",
       "      <td>202.800000</td>\n",
       "      <td>115.333333</td>\n",
       "      <td>354.333333</td>\n",
       "      <td>16.707151</td>\n",
       "    </tr>\n",
       "    <tr>\n",
       "      <th>2</th>\n",
       "      <td>1</td>\n",
       "      <td>134.691964</td>\n",
       "      <td>199.285714</td>\n",
       "      <td>116.857143</td>\n",
       "      <td>477.857143</td>\n",
       "      <td>22.496712</td>\n",
       "    </tr>\n",
       "    <tr>\n",
       "      <th>3</th>\n",
       "      <td>1</td>\n",
       "      <td>127.946309</td>\n",
       "      <td>178.368421</td>\n",
       "      <td>92.368421</td>\n",
       "      <td>278.473684</td>\n",
       "      <td>14.977453</td>\n",
       "    </tr>\n",
       "    <tr>\n",
       "      <th>4</th>\n",
       "      <td>1</td>\n",
       "      <td>135.431548</td>\n",
       "      <td>197.000000</td>\n",
       "      <td>112.690476</td>\n",
       "      <td>532.952381</td>\n",
       "      <td>17.604193</td>\n",
       "    </tr>\n",
       "  </tbody>\n",
       "</table>\n",
       "</div>"
      ],
      "text/plain": [
       "   class    GLCM_pan  Mean_Green    Mean_Red    Mean_NIR     SD_pan\n",
       "0      1  120.362774  205.500000  119.395349  416.581395  20.676318\n",
       "1      1  124.739583  202.800000  115.333333  354.333333  16.707151\n",
       "2      1  134.691964  199.285714  116.857143  477.857143  22.496712\n",
       "3      1  127.946309  178.368421   92.368421  278.473684  14.977453\n",
       "4      1  135.431548  197.000000  112.690476  532.952381  17.604193"
      ]
     },
     "execution_count": 16,
     "metadata": {},
     "output_type": "execute_result"
    }
   ],
   "source": [
    "# Wilt data\n",
    "le = LabelEncoder()\n",
    "wilt_data['class'] = le.fit_transform(wilt_data['class'])\n",
    "wilt_data.head()"
   ]
  },
  {
   "cell_type": "code",
   "execution_count": 44,
   "metadata": {},
   "outputs": [],
   "source": [
    "wilted = wilt_data[wilt_data['class'] == 1]\n",
    "not_wilted = wilt_data[wilt_data['class'] != 1]"
   ]
  },
  {
   "cell_type": "code",
   "execution_count": 52,
   "metadata": {},
   "outputs": [
    {
     "name": "stderr",
     "output_type": "stream",
     "text": [
      "/Users/Ben/anaconda3/lib/python3.6/site-packages/matplotlib/figure.py:459: UserWarning: matplotlib is currently using a non-GUI backend, so cannot show the figure\n",
      "  \"matplotlib is currently using a non-GUI backend, \"\n"
     ]
    },
    {
     "data": {
      "image/png": "[encoded data removed]",
      "text/plain": [
       "<Figure size 432x288 with 1 Axes>"
      ]
     },
     "metadata": {},
     "output_type": "display_data"
    }
   ],
   "source": [
    "fig = plt.figure()\n",
    "ax =fig.add_axes([0,0,1,1])\n",
    "ax.scatter(wilted['Mean_Green'], wilted['Mean_Red'], color = 'brown', label = 'diseased')\n",
    "ax.scatter(not_wilted['Mean_Green'], not_wilted['Mean_Red'], color = 'green', label = 'healthy')\n",
    "ax.set_xlabel('Mean Green Value')\n",
    "ax.set_ylabel('Mean Red Value')\n",
    "ax.legend()\n",
    "ax.grid(True)\n",
    "fig.show()"
   ]
  },
  {
   "cell_type": "markdown",
   "metadata": {},
   "source": [
    "Although our sample is uneven, the observable clustering based on these two features is promising."
   ]
  },
  {
   "cell_type": "markdown",
   "metadata": {},
   "source": [
    "# Classifier Parameters\n",
    "\n",
    "As outlined in the paper, here are the paramters we will be testing for each model. Note that the Random Forest parameters ('rf_params') will be adjusted for each dataset to match the amount of features."
   ]
  },
  {
   "cell_type": "code",
   "execution_count": 15,
   "metadata": {},
   "outputs": [],
   "source": [
    "# Parameters for each model to use for grid search\n",
    "svm_params = {'C': [10**i for i in range(-3, 3)]}\n",
    "lr_params = {'C': [10**i for i in range(-8, 5)]}\n",
    "rf_params = {'max_features': range(1, len(htru_data.columns))}\n",
    "knn_params = {'n_neighbors': range(1,7)}\n",
    "dt_params = {'max_depth': range(1,6)}"
   ]
  },
  {
   "cell_type": "markdown",
   "metadata": {},
   "source": [
    "# HTRU2 Data Set\n",
    "\n",
    "#### 20/80 Split"
   ]
  },
  {
   "cell_type": "code",
   "execution_count": 17,
   "metadata": {},
   "outputs": [
    {
     "name": "stdout",
     "output_type": "stream",
     "text": [
      "(17898,) (17898, 8)\n",
      "(3579, 8) (14319, 8) (3579,) (14319,)\n"
     ]
    }
   ],
   "source": [
    "# Shuffle \n",
    "htru_data = shuffle(htru_data).reset_index(drop=True)\n",
    "Y = htru_data.iloc[:, -1]\n",
    "X = htru_data.iloc[:, :-1]\n",
    "print(Y.shape, X.shape)\n",
    "\n",
    "# 20/80 split\n",
    "X_train_val = X[:int(0.2*len(X))]\n",
    "X_test = X[int(0.2*len(X)):]\n",
    "Y_train_val = Y[:int(0.2*len(Y))]\n",
    "Y_test = Y[int(0.2*len(Y)):]\n",
    "print(X_train_val.shape, X_test.shape, Y_train_val.shape, Y_test.shape)"
   ]
  },
  {
   "cell_type": "code",
   "execution_count": 18,
   "metadata": {},
   "outputs": [],
   "source": [
    "svm_clf = svm.SVC(kernel='linear')\n",
    "lr_clf = LogisticRegression()\n",
    "knn_clf = KNeighborsClassifier()\n",
    "rf_clf = RandomForestClassifier(n_estimators=1024)\n",
    "dt_clf = DecisionTreeClassifier()\n",
    "\n",
    "def _gridsearch(X_train_val, Y_train_val, clf, params, f):\n",
    "    clf_gs = GridSearchCV(clf, params, cv=f)\n",
    "    clf_gs.fit(X_train_val, Y_train_val)\n",
    "    print(\"Best Param:           \",clf_gs.best_params_)\n",
    "    print(\"Training Accuracy:    \",clf_gs.best_score_)\n",
    "    print(\"\\n\")\n",
    "    return clf_gs.best_params_"
   ]
  },
  {
   "cell_type": "code",
   "execution_count": 19,
   "metadata": {},
   "outputs": [
    {
     "name": "stdout",
     "output_type": "stream",
     "text": [
      "SVM\n",
      "Best Param:            {'C': 10}\n",
      "Training Accuracy:     0.9784856105057279\n",
      "\n",
      "\n",
      "Logistic Regression\n",
      "Best Param:            {'C': 100}\n",
      "Training Accuracy:     0.9796032411288069\n",
      "\n",
      "\n",
      "KNN\n",
      "Best Param:            {'n_neighbors': 6}\n",
      "Training Accuracy:     0.972338642078793\n",
      "\n",
      "\n",
      "Random Forest\n",
      "Best Param:            {'max_features': 3}\n",
      "Training Accuracy:     0.9773679798826488\n",
      "\n",
      "\n",
      "Decision Tree\n",
      "Best Param:            {'max_depth': 1}\n",
      "Training Accuracy:     0.9762503492595697\n",
      "\n",
      "\n"
     ]
    }
   ],
   "source": [
    "print(\"SVM\")\n",
    "svm_best = _gridsearch(X_train_val, Y_train_val, svm_clf, svm_params, 3)\n",
    "print(\"Logistic Regression\")\n",
    "lr_best = _gridsearch(X_train_val, Y_train_val, lr_clf, lr_params, 3)\n",
    "print(\"KNN\")\n",
    "knn_best = _gridsearch(X_train_val, Y_train_val, knn_clf, knn_params, 3)\n",
    "print(\"Random Forest\")\n",
    "rf_best = _gridsearch(X_train_val, Y_train_val, rf_clf, rf_params, 3)\n",
    "print(\"Decision Tree\")\n",
    "dt_best = _gridsearch(X_train_val, Y_train_val, dt_clf, dt_params, 3)"
   ]
  },
  {
   "cell_type": "code",
   "execution_count": 21,
   "metadata": {},
   "outputs": [],
   "source": [
    "# Update parameters based on our results\n",
    "_svm_clf = svm.SVC(kernel='linear', C=svm_best['C'])\n",
    "_lr_clf = LogisticRegression(C=lr_best['C'])\n",
    "_knn_clf = KNeighborsClassifier(n_neighbors=knn_best['n_neighbors'])\n",
    "_rf_clf = RandomForestClassifier(n_estimators=1024, max_features=rf_best['max_features'])\n",
    "_dt_clf = DecisionTreeClassifier(max_depth=dt_best['max_depth'])\n",
    "\n",
    "def _testscores(X_train_val, Y_train_val, X_test, Y_test, clf):\n",
    "    clf.fit(X_train_val, Y_train_val)\n",
    "    print('Accuracy: ', clf.score(X_test, Y_test))\n",
    "    print('\\n')"
   ]
  },
  {
   "cell_type": "code",
   "execution_count": 22,
   "metadata": {},
   "outputs": [
    {
     "name": "stdout",
     "output_type": "stream",
     "text": [
      "SVM\n",
      "Accuracy:  0.9797471890495146\n",
      "\n",
      "\n",
      "Logistic Regression\n",
      "Accuracy:  0.9795376772120958\n",
      "\n",
      "\n",
      "KNN\n",
      "Accuracy:  0.9713667155527621\n",
      "\n",
      "\n",
      "Random Forest\n",
      "Accuracy:  0.9783504434667225\n",
      "\n",
      "\n",
      "Decision Tree\n",
      "Accuracy:  0.9769536978839305\n",
      "\n",
      "\n"
     ]
    }
   ],
   "source": [
    "print(\"SVM\")\n",
    "_testscores(X_train_val, Y_train_val, X_test, Y_test, _svm_clf)\n",
    "print(\"Logistic Regression\")\n",
    "_testscores(X_train_val, Y_train_val, X_test, Y_test, _lr_clf)\n",
    "print(\"KNN\")\n",
    "_testscores(X_train_val, Y_train_val, X_test, Y_test, _knn_clf)\n",
    "print(\"Random Forest\")\n",
    "_testscores(X_train_val, Y_train_val, X_test, Y_test, _rf_clf)\n",
    "print(\"Decision Tree\")\n",
    "_testscores(X_train_val, Y_train_val, X_test, Y_test, _dt_clf)"
   ]
  },
  {
   "cell_type": "markdown",
   "metadata": {},
   "source": [
    "#### 50/50 Split"
   ]
  },
  {
   "cell_type": "code",
   "execution_count": 23,
   "metadata": {},
   "outputs": [
    {
     "name": "stdout",
     "output_type": "stream",
     "text": [
      "(8949, 8) (8949, 8) (8949,) (8949,)\n"
     ]
    }
   ],
   "source": [
    "# Reshuffle dataset\n",
    "htru_data = shuffle(htru_data).reset_index(drop=True)\n",
    "Y = htru_data.iloc[:, -1]\n",
    "X = htru_data.iloc[:, :-1]\n",
    "\n",
    "# 50/50 split\n",
    "X_train_val = X[:int(0.5*len(X))]\n",
    "X_test = X[int(0.5*len(X)):]\n",
    "Y_train_val = Y[:int(0.5*len(Y))]\n",
    "Y_test = Y[int(0.5*len(Y)):]\n",
    "print(X_train_val.shape, X_test.shape, Y_train_val.shape, Y_test.shape)"
   ]
  },
  {
   "cell_type": "code",
   "execution_count": 24,
   "metadata": {},
   "outputs": [
    {
     "name": "stdout",
     "output_type": "stream",
     "text": [
      "SVM\n",
      "Best Param:            {'C': 10}\n",
      "Training Accuracy:     0.9789920661526428\n",
      "\n",
      "\n",
      "Logistic Regression\n",
      "Best Param:            {'C': 10000}\n",
      "Training Accuracy:     0.9795507877975193\n",
      "\n",
      "\n",
      "KNN\n",
      "Best Param:            {'n_neighbors': 5}\n",
      "Training Accuracy:     0.9735165940328528\n",
      "\n",
      "\n",
      "Random Forest\n",
      "Best Param:            {'max_features': 5}\n",
      "Training Accuracy:     0.9796625321264946\n",
      "\n",
      "\n",
      "Decision Tree\n",
      "Best Param:            {'max_depth': 1}\n",
      "Training Accuracy:     0.976533690915186\n",
      "\n",
      "\n"
     ]
    }
   ],
   "source": [
    "print(\"SVM\")\n",
    "svm_best = _gridsearch(X_train_val, Y_train_val, svm_clf, svm_params, 3)\n",
    "print(\"Logistic Regression\")\n",
    "lr_best = _gridsearch(X_train_val, Y_train_val, lr_clf, lr_params, 3)\n",
    "print(\"KNN\")\n",
    "knn_best = _gridsearch(X_train_val, Y_train_val, knn_clf, knn_params, 3)\n",
    "print(\"Random Forest\")\n",
    "rf_best = _gridsearch(X_train_val, Y_train_val, rf_clf, rf_params, 3)\n",
    "print(\"Decision Tree\")\n",
    "dt_best = _gridsearch(X_train_val, Y_train_val, dt_clf, dt_params, 3)"
   ]
  },
  {
   "cell_type": "code",
   "execution_count": 25,
   "metadata": {},
   "outputs": [],
   "source": [
    "# Update our parameters based on the results\n",
    "_svm_clf = svm.SVC(kernel='linear', C=svm_best['C'])\n",
    "_lr_clf = LogisticRegression(C=lr_best['C'])\n",
    "_knn_clf = KNeighborsClassifier(n_neighbors=knn_best['n_neighbors'])\n",
    "_rf_clf = RandomForestClassifier(n_estimators=1024, max_features=rf_best['max_features'])\n",
    "_dt_clf = DecisionTreeClassifier(max_depth=dt_best['max_depth'])"
   ]
  },
  {
   "cell_type": "code",
   "execution_count": 26,
   "metadata": {},
   "outputs": [
    {
     "name": "stdout",
     "output_type": "stream",
     "text": [
      "SVM\n",
      "Accuracy:  0.9799977651134205\n",
      "\n",
      "\n",
      "Logistic Regression\n",
      "Accuracy:  0.9798860207844452\n",
      "\n",
      "\n",
      "KNN\n",
      "Accuracy:  0.9727343837300257\n",
      "\n",
      "\n",
      "Random Forest\n",
      "Accuracy:  0.9795507877975193\n",
      "\n",
      "\n",
      "Decision Tree\n",
      "Accuracy:  0.9773159012180131\n",
      "\n",
      "\n"
     ]
    }
   ],
   "source": [
    "print(\"SVM\")\n",
    "_testscores(X_train_val, Y_train_val, X_test, Y_test, _svm_clf)\n",
    "print(\"Logistic Regression\")\n",
    "_testscores(X_train_val, Y_train_val, X_test, Y_test, _lr_clf)\n",
    "print(\"KNN\")\n",
    "_testscores(X_train_val, Y_train_val, X_test, Y_test, _knn_clf)\n",
    "print(\"Random Forest\")\n",
    "_testscores(X_train_val, Y_train_val, X_test, Y_test, _rf_clf)\n",
    "print(\"Decision Tree\")\n",
    "_testscores(X_train_val, Y_train_val, X_test, Y_test, _dt_clf)"
   ]
  },
  {
   "cell_type": "markdown",
   "metadata": {},
   "source": [
    "### 80/20 Split"
   ]
  },
  {
   "cell_type": "code",
   "execution_count": 27,
   "metadata": {},
   "outputs": [
    {
     "name": "stdout",
     "output_type": "stream",
     "text": [
      "(14318, 8) (3580, 8) (14318,) (3580,)\n"
     ]
    }
   ],
   "source": [
    "# Reshuffle dataset\n",
    "htru_data = shuffle(htru_data).reset_index(drop=True)\n",
    "Y = htru_data.iloc[:, -1]\n",
    "X = htru_data.iloc[:, :-1]\n",
    "\n",
    "# 80/20 split\n",
    "X_train_val = X[:int(0.8*len(X))]\n",
    "X_test = X[int(0.8*len(X)):]\n",
    "Y_train_val = Y[:int(0.8*len(Y))]\n",
    "Y_test = Y[int(0.8*len(Y)):]\n",
    "print(X_train_val.shape, X_test.shape, Y_train_val.shape, Y_test.shape)"
   ]
  },
  {
   "cell_type": "code",
   "execution_count": 28,
   "metadata": {},
   "outputs": [
    {
     "name": "stdout",
     "output_type": "stream",
     "text": [
      "SVM\n",
      "Best Param:            {'C': 10}\n",
      "Training Accuracy:     0.9797457745495181\n",
      "\n",
      "\n",
      "Logistic Regression\n",
      "Best Param:            {'C': 10}\n",
      "Training Accuracy:     0.9795362480793407\n",
      "\n",
      "\n",
      "KNN\n",
      "Best Param:            {'n_neighbors': 5}\n",
      "Training Accuracy:     0.9725520324067607\n",
      "\n",
      "\n",
      "Random Forest\n",
      "Best Param:            {'max_features': 3}\n",
      "Training Accuracy:     0.9803743539600502\n",
      "\n",
      "\n",
      "Decision Tree\n",
      "Best Param:            {'max_depth': 5}\n",
      "Training Accuracy:     0.9789076686688085\n",
      "\n",
      "\n"
     ]
    }
   ],
   "source": [
    "print(\"SVM\")\n",
    "svm_best = _gridsearch(X_train_val, Y_train_val, svm_clf, svm_params, 3)\n",
    "print(\"Logistic Regression\")\n",
    "lr_best = _gridsearch(X_train_val, Y_train_val, lr_clf, lr_params, 3)\n",
    "print(\"KNN\")\n",
    "knn_best = _gridsearch(X_train_val, Y_train_val, knn_clf, knn_params, 3)\n",
    "print(\"Random Forest\")\n",
    "rf_best = _gridsearch(X_train_val, Y_train_val, rf_clf, rf_params, 3)\n",
    "print(\"Decision Tree\")\n",
    "dt_best = _gridsearch(X_train_val, Y_train_val, dt_clf, dt_params, 3)"
   ]
  },
  {
   "cell_type": "code",
   "execution_count": 29,
   "metadata": {},
   "outputs": [],
   "source": [
    "# Update our parameters based on the results\n",
    "_svm_clf = svm.SVC(kernel='linear', C=svm_best['C'])\n",
    "_lr_clf = LogisticRegression(C=lr_best['C'])\n",
    "_knn_clf = KNeighborsClassifier(n_neighbors=knn_best['n_neighbors'])\n",
    "_rf_clf = RandomForestClassifier(n_estimators=1024, max_features=rf_best['max_features'])\n",
    "_dt_clf = DecisionTreeClassifier(max_depth=dt_best['max_depth'])\n"
   ]
  },
  {
   "cell_type": "code",
   "execution_count": 30,
   "metadata": {},
   "outputs": [
    {
     "name": "stdout",
     "output_type": "stream",
     "text": [
      "SVM\n",
      "Accuracy:  0.9779329608938547\n",
      "\n",
      "\n",
      "Logistic Regression\n",
      "Accuracy:  0.9773743016759776\n",
      "\n",
      "\n",
      "KNN\n",
      "Accuracy:  0.9715083798882681\n",
      "\n",
      "\n",
      "Random Forest\n",
      "Accuracy:  0.9801675977653631\n",
      "\n",
      "\n",
      "Decision Tree\n",
      "Accuracy:  0.9754189944134078\n",
      "\n",
      "\n"
     ]
    }
   ],
   "source": [
    "print(\"SVM\")\n",
    "_testscores(X_train_val, Y_train_val, X_test, Y_test, _svm_clf)\n",
    "print(\"Logistic Regression\")\n",
    "_testscores(X_train_val, Y_train_val, X_test, Y_test, _lr_clf)\n",
    "print(\"KNN\")\n",
    "_testscores(X_train_val, Y_train_val, X_test, Y_test, _knn_clf)\n",
    "print(\"Random Forest\")\n",
    "_testscores(X_train_val, Y_train_val, X_test, Y_test, _rf_clf)\n",
    "print(\"Decision Tree\")\n",
    "_testscores(X_train_val, Y_train_val, X_test, Y_test, _dt_clf)"
   ]
  },
  {
   "cell_type": "markdown",
   "metadata": {},
   "source": [
    "# Mushroom Dataset\n",
    "### 20/80 Split"
   ]
  },
  {
   "cell_type": "code",
   "execution_count": 31,
   "metadata": {},
   "outputs": [
    {
     "name": "stdout",
     "output_type": "stream",
     "text": [
      "(8123,) (8123, 96)\n",
      "(1624, 96) (6499, 96) (1624,) (6499,)\n"
     ]
    }
   ],
   "source": [
    "# Shuffle \n",
    "mush_data = shuffle(mush_data).reset_index(drop=True)\n",
    "Y = mush_data.iloc[:, 0]\n",
    "X = mush_data.iloc[:,1:]\n",
    "print(Y.shape, X.shape)\n",
    "\n",
    "# 20/80 split\n",
    "X_train_val = X[:int(0.2*len(X))]\n",
    "X_test = X[int(0.2*len(X)):]\n",
    "Y_train_val = Y[:int(0.2*len(Y))]\n",
    "Y_test = Y[int(0.2*len(Y)):]\n",
    "print(X_train_val.shape, X_test.shape, Y_train_val.shape, Y_test.shape)"
   ]
  },
  {
   "cell_type": "markdown",
   "metadata": {},
   "source": [
    "###### max features limited to number of attributes"
   ]
  },
  {
   "cell_type": "code",
   "execution_count": 32,
   "metadata": {},
   "outputs": [
    {
     "name": "stdout",
     "output_type": "stream",
     "text": [
      "SVM\n",
      "Best Param:            {'C': 1}\n",
      "Training Accuracy:     0.9981527093596059\n",
      "\n",
      "\n",
      "Logistic Regression\n",
      "Best Param:            {'C': 100}\n",
      "Training Accuracy:     0.9981527093596059\n",
      "\n",
      "\n",
      "KNN\n",
      "Best Param:            {'n_neighbors': 1}\n",
      "Training Accuracy:     1.0\n",
      "\n",
      "\n",
      "Random Forest\n",
      "Best Param:            {'max_features': 4}\n",
      "Training Accuracy:     0.999384236453202\n",
      "\n",
      "\n",
      "Decision Tree\n",
      "Best Param:            {'max_depth': 5}\n",
      "Training Accuracy:     0.9963054187192119\n",
      "\n",
      "\n"
     ]
    }
   ],
   "source": [
    "rf_params = {'max_features': range(1, len(mush_data.columns))}\n",
    "\n",
    "print(\"SVM\")\n",
    "svm_best = _gridsearch(X_train_val, Y_train_val, svm_clf, svm_params, 3)\n",
    "print(\"Logistic Regression\")\n",
    "lr_best = _gridsearch(X_train_val, Y_train_val, lr_clf, lr_params, 3)\n",
    "print(\"KNN\")\n",
    "knn_best = _gridsearch(X_train_val, Y_train_val, knn_clf, knn_params, 3)\n",
    "print(\"Random Forest\")\n",
    "rf_best = _gridsearch(X_train_val, Y_train_val, rf_clf, rf_params, 3)\n",
    "print(\"Decision Tree\")\n",
    "dt_best = _gridsearch(X_train_val, Y_train_val, dt_clf, dt_params, 3)"
   ]
  },
  {
   "cell_type": "code",
   "execution_count": 33,
   "metadata": {},
   "outputs": [],
   "source": [
    "# Update parameters\n",
    "_svm_clf = svm.SVC(kernel='linear', C=svm_best['C'])\n",
    "_lr_clf = LogisticRegression(C=lr_best['C'])\n",
    "_knn_clf = KNeighborsClassifier(n_neighbors=knn_best['n_neighbors'])\n",
    "_rf_clf = RandomForestClassifier(n_estimators=1024, max_features=rf_best['max_features'])\n",
    "_dt_clf = DecisionTreeClassifier(max_depth=dt_best['max_depth'])"
   ]
  },
  {
   "cell_type": "code",
   "execution_count": 34,
   "metadata": {},
   "outputs": [
    {
     "name": "stdout",
     "output_type": "stream",
     "text": [
      "SVM\n",
      "Accuracy:  1.0\n",
      "\n",
      "\n",
      "Logistic Regression\n",
      "Accuracy:  1.0\n",
      "\n",
      "\n",
      "KNN\n",
      "Accuracy:  1.0\n",
      "\n",
      "\n",
      "Random Forest\n",
      "Accuracy:  1.0\n",
      "\n",
      "\n",
      "Decision Tree\n",
      "Accuracy:  0.9947684259116787\n",
      "\n",
      "\n"
     ]
    }
   ],
   "source": [
    "print(\"SVM\")\n",
    "_testscores(X_train_val, Y_train_val, X_test, Y_test, _svm_clf)\n",
    "print(\"Logistic Regression\")\n",
    "_testscores(X_train_val, Y_train_val, X_test, Y_test, _lr_clf)\n",
    "print(\"KNN\")\n",
    "_testscores(X_train_val, Y_train_val, X_test, Y_test, _knn_clf)\n",
    "print(\"Random Forest\")\n",
    "_testscores(X_train_val, Y_train_val, X_test, Y_test, _rf_clf)\n",
    "print(\"Decision Tree\")\n",
    "_testscores(X_train_val, Y_train_val, X_test, Y_test, _dt_clf)"
   ]
  },
  {
   "cell_type": "markdown",
   "metadata": {},
   "source": [
    "### 50/50 Split"
   ]
  },
  {
   "cell_type": "code",
   "execution_count": 35,
   "metadata": {},
   "outputs": [
    {
     "name": "stdout",
     "output_type": "stream",
     "text": [
      "(4061, 96) (4062, 96) (4061,) (4062,)\n"
     ]
    }
   ],
   "source": [
    "# Reshuffle dataset\n",
    "mush_data = shuffle(mush_data).reset_index(drop=True)\n",
    "Y = mush_data.iloc[:, 0]\n",
    "X = mush_data.iloc[:,1:]\n",
    "\n",
    "# 50/50 split\n",
    "X_train_val = X[:int(0.5*len(X))]\n",
    "X_test = X[int(0.5*len(X)):]\n",
    "Y_train_val = Y[:int(0.5*len(Y))]\n",
    "Y_test = Y[int(0.5*len(Y)):]\n",
    "print(X_train_val.shape, X_test.shape, Y_train_val.shape, Y_test.shape)"
   ]
  },
  {
   "cell_type": "code",
   "execution_count": 36,
   "metadata": {},
   "outputs": [
    {
     "name": "stdout",
     "output_type": "stream",
     "text": [
      "SVM\n",
      "Best Param:            {'C': 1}\n",
      "Training Accuracy:     0.9997537552327013\n",
      "\n",
      "\n",
      "Logistic Regression\n",
      "Best Param:            {'C': 100}\n",
      "Training Accuracy:     0.9997537552327013\n",
      "\n",
      "\n",
      "KNN\n",
      "Best Param:            {'n_neighbors': 1}\n",
      "Training Accuracy:     1.0\n",
      "\n",
      "\n",
      "Random Forest\n",
      "Best Param:            {'max_features': 1}\n",
      "Training Accuracy:     1.0\n",
      "\n",
      "\n",
      "Decision Tree\n",
      "Best Param:            {'max_depth': 5}\n",
      "Training Accuracy:     0.997537552327013\n",
      "\n",
      "\n"
     ]
    }
   ],
   "source": [
    "print(\"SVM\")\n",
    "svm_best = _gridsearch(X_train_val, Y_train_val, svm_clf, svm_params, 3)\n",
    "print(\"Logistic Regression\")\n",
    "lr_best = _gridsearch(X_train_val, Y_train_val, lr_clf, lr_params, 3)\n",
    "print(\"KNN\")\n",
    "knn_best = _gridsearch(X_train_val, Y_train_val, knn_clf, knn_params, 3)\n",
    "print(\"Random Forest\")\n",
    "rf_best = _gridsearch(X_train_val, Y_train_val, rf_clf, rf_params, 3)\n",
    "print(\"Decision Tree\")\n",
    "dt_best = _gridsearch(X_train_val, Y_train_val, dt_clf, dt_params, 3)"
   ]
  },
  {
   "cell_type": "code",
   "execution_count": 37,
   "metadata": {},
   "outputs": [],
   "source": [
    "# Update parameters\n",
    "_svm_clf = svm.SVC(kernel='linear', C=svm_best['C'])\n",
    "_lr_clf = LogisticRegression(C=lr_best['C'])\n",
    "_knn_clf = KNeighborsClassifier(n_neighbors=knn_best['n_neighbors'])\n",
    "_rf_clf = RandomForestClassifier(n_estimators=1024, max_features=rf_best['max_features'])\n",
    "_dt_clf = DecisionTreeClassifier(max_depth=dt_best['max_depth'])"
   ]
  },
  {
   "cell_type": "code",
   "execution_count": 38,
   "metadata": {},
   "outputs": [
    {
     "name": "stdout",
     "output_type": "stream",
     "text": [
      "SVM\n",
      "Accuracy:  1.0\n",
      "\n",
      "\n",
      "Logistic Regression\n",
      "Accuracy:  1.0\n",
      "\n",
      "\n",
      "KNN\n",
      "Accuracy:  1.0\n",
      "\n",
      "\n",
      "Random Forest\n",
      "Accuracy:  1.0\n",
      "\n",
      "\n",
      "Decision Tree\n",
      "Accuracy:  0.9977843426883308\n",
      "\n",
      "\n"
     ]
    }
   ],
   "source": [
    "print(\"SVM\")\n",
    "_testscores(X_train_val, Y_train_val, X_test, Y_test, _svm_clf)\n",
    "print(\"Logistic Regression\")\n",
    "_testscores(X_train_val, Y_train_val, X_test, Y_test, _lr_clf)\n",
    "print(\"KNN\")\n",
    "_testscores(X_train_val, Y_train_val, X_test, Y_test, _knn_clf)\n",
    "print(\"Random Forest\")\n",
    "_testscores(X_train_val, Y_train_val, X_test, Y_test, _rf_clf)\n",
    "print(\"Decision Tree\")\n",
    "_testscores(X_train_val, Y_train_val, X_test, Y_test, _dt_clf)"
   ]
  },
  {
   "cell_type": "markdown",
   "metadata": {},
   "source": [
    "### 80/20 Split"
   ]
  },
  {
   "cell_type": "code",
   "execution_count": 39,
   "metadata": {},
   "outputs": [
    {
     "name": "stdout",
     "output_type": "stream",
     "text": [
      "(6498, 96) (1625, 96) (6498,) (1625,)\n"
     ]
    }
   ],
   "source": [
    "# Reshuffle dataset\n",
    "mush_data = shuffle(mush_data).reset_index(drop=True)\n",
    "Y = mush_data.iloc[:, 0]\n",
    "X = mush_data.iloc[:,1:]\n",
    "\n",
    "# 80/20 split\n",
    "X_train_val = X[:int(0.8*len(X))]\n",
    "X_test = X[int(0.8*len(X)):]\n",
    "Y_train_val = Y[:int(0.8*len(Y))]\n",
    "Y_test = Y[int(0.8*len(Y)):]\n",
    "print(X_train_val.shape, X_test.shape, Y_train_val.shape, Y_test.shape)"
   ]
  },
  {
   "cell_type": "code",
   "execution_count": 40,
   "metadata": {},
   "outputs": [
    {
     "name": "stdout",
     "output_type": "stream",
     "text": [
      "SVM\n",
      "Best Param:            {'C': 1}\n",
      "Training Accuracy:     1.0\n",
      "\n",
      "\n",
      "Logistic Regression\n",
      "Best Param:            {'C': 10}\n",
      "Training Accuracy:     1.0\n",
      "\n",
      "\n",
      "KNN\n",
      "Best Param:            {'n_neighbors': 1}\n",
      "Training Accuracy:     1.0\n",
      "\n",
      "\n",
      "Random Forest\n",
      "Best Param:            {'max_features': 1}\n",
      "Training Accuracy:     1.0\n",
      "\n",
      "\n",
      "Decision Tree\n",
      "Best Param:            {'max_depth': 5}\n",
      "Training Accuracy:     0.9963065558633426\n",
      "\n",
      "\n"
     ]
    }
   ],
   "source": [
    "print(\"SVM\")\n",
    "svm_best = _gridsearch(X_train_val, Y_train_val, svm_clf, svm_params, 3)\n",
    "print(\"Logistic Regression\")\n",
    "lr_best = _gridsearch(X_train_val, Y_train_val, lr_clf, lr_params, 3)\n",
    "print(\"KNN\")\n",
    "knn_best = _gridsearch(X_train_val, Y_train_val, knn_clf, knn_params, 3)\n",
    "print(\"Random Forest\")\n",
    "rf_best = _gridsearch(X_train_val, Y_train_val, rf_clf, rf_params, 3)\n",
    "print(\"Decision Tree\")\n",
    "dt_best = _gridsearch(X_train_val, Y_train_val, dt_clf, dt_params, 3)"
   ]
  },
  {
   "cell_type": "code",
   "execution_count": 41,
   "metadata": {},
   "outputs": [],
   "source": [
    "# Update parameters\n",
    "_svm_clf = svm.SVC(kernel='linear', C=svm_best['C'])\n",
    "_lr_clf = LogisticRegression(C=lr_best['C'])\n",
    "_knn_clf = KNeighborsClassifier(n_neighbors=knn_best['n_neighbors'])\n",
    "_rf_clf = RandomForestClassifier(n_estimators=1024, max_features=rf_best['max_features'])\n",
    "_dt_clf = DecisionTreeClassifier(max_depth=dt_best['max_depth'])"
   ]
  },
  {
   "cell_type": "code",
   "execution_count": 42,
   "metadata": {
    "scrolled": true
   },
   "outputs": [
    {
     "name": "stdout",
     "output_type": "stream",
     "text": [
      "SVM\n",
      "Accuracy:  1.0\n",
      "\n",
      "\n",
      "Logistic Regression\n",
      "Accuracy:  1.0\n",
      "\n",
      "\n",
      "KNN\n",
      "Accuracy:  1.0\n",
      "\n",
      "\n",
      "Random Forest\n",
      "Accuracy:  1.0\n",
      "\n",
      "\n",
      "Decision Tree\n",
      "Accuracy:  0.9987692307692307\n",
      "\n",
      "\n"
     ]
    }
   ],
   "source": [
    "print(\"SVM\")\n",
    "_testscores(X_train_val, Y_train_val, X_test, Y_test, _svm_clf)\n",
    "print(\"Logistic Regression\")\n",
    "_testscores(X_train_val, Y_train_val, X_test, Y_test, _lr_clf)\n",
    "print(\"KNN\")\n",
    "_testscores(X_train_val, Y_train_val, X_test, Y_test, _knn_clf)\n",
    "print(\"Random Forest\")\n",
    "_testscores(X_train_val, Y_train_val, X_test, Y_test, _rf_clf)\n",
    "print(\"Decision Tree\")\n",
    "_testscores(X_train_val, Y_train_val, X_test, Y_test, _dt_clf)"
   ]
  },
  {
   "cell_type": "markdown",
   "metadata": {},
   "source": [
    "# Wilt Dataset\n",
    "### 20/80 Split"
   ]
  },
  {
   "cell_type": "code",
   "execution_count": 43,
   "metadata": {},
   "outputs": [
    {
     "name": "stdout",
     "output_type": "stream",
     "text": [
      "(4339,) (4339, 5)\n",
      "(867, 5) (3472, 5) (867,) (3472,)\n"
     ]
    }
   ],
   "source": [
    "# Shuffle \n",
    "wilt_data = shuffle(wilt_data).reset_index(drop=True)\n",
    "Y = wilt_data.iloc[:, 0]\n",
    "X = wilt_data.iloc[:,1:]\n",
    "print(Y.shape, X.shape)\n",
    "\n",
    "# 20/80 split\n",
    "X_train_val = X[:int(0.2*len(X))]\n",
    "X_test = X[int(0.2*len(X)):]\n",
    "Y_train_val = Y[:int(0.2*len(Y))]\n",
    "Y_test = Y[int(0.2*len(Y)):]\n",
    "print(X_train_val.shape, X_test.shape, Y_train_val.shape, Y_test.shape)"
   ]
  },
  {
   "cell_type": "code",
   "execution_count": 44,
   "metadata": {},
   "outputs": [
    {
     "name": "stdout",
     "output_type": "stream",
     "text": [
      "SVM\n",
      "Best Param:            {'C': 0.01}\n",
      "Training Accuracy:     0.9873125720876585\n",
      "\n",
      "\n",
      "Logistic Regression\n",
      "Best Param:            {'C': 100}\n",
      "Training Accuracy:     0.9884659746251442\n",
      "\n",
      "\n",
      "KNN\n",
      "Best Param:            {'n_neighbors': 1}\n",
      "Training Accuracy:     0.9884659746251442\n",
      "\n",
      "\n",
      "Random Forest\n",
      "Best Param:            {'max_features': 5}\n",
      "Training Accuracy:     0.9884659746251442\n",
      "\n",
      "\n",
      "Decision Tree\n",
      "Best Param:            {'max_depth': 4}\n",
      "Training Accuracy:     0.986159169550173\n",
      "\n",
      "\n"
     ]
    }
   ],
   "source": [
    "# max features limited to number of attributes\n",
    "rf_params = {'max_features': range(1, len(wilt_data.columns))}\n",
    "\n",
    "print(\"SVM\")\n",
    "svm_best = _gridsearch(X_train_val, Y_train_val, svm_clf, svm_params, 3)\n",
    "print(\"Logistic Regression\")\n",
    "lr_best = _gridsearch(X_train_val, Y_train_val, lr_clf, lr_params, 3)\n",
    "print(\"KNN\")\n",
    "knn_best = _gridsearch(X_train_val, Y_train_val, knn_clf, knn_params, 3)\n",
    "print(\"Random Forest\")\n",
    "rf_best = _gridsearch(X_train_val, Y_train_val, rf_clf, rf_params, 3)\n",
    "print(\"Decision Tree\")\n",
    "dt_best = _gridsearch(X_train_val, Y_train_val, dt_clf, dt_params, 3)"
   ]
  },
  {
   "cell_type": "code",
   "execution_count": 45,
   "metadata": {},
   "outputs": [],
   "source": [
    "# Update parameters\n",
    "_svm_clf = svm.SVC(kernel='linear', C=svm_best['C'])\n",
    "_lr_clf = LogisticRegression(C=lr_best['C'])\n",
    "_knn_clf = KNeighborsClassifier(n_neighbors=knn_best['n_neighbors'])\n",
    "_rf_clf = RandomForestClassifier(n_estimators=1024, max_features=rf_best['max_features'])\n",
    "_dt_clf = DecisionTreeClassifier(max_depth=dt_best['max_depth'])"
   ]
  },
  {
   "cell_type": "code",
   "execution_count": 46,
   "metadata": {},
   "outputs": [
    {
     "name": "stdout",
     "output_type": "stream",
     "text": [
      "SVM\n",
      "Accuracy:  0.9873271889400922\n",
      "\n",
      "\n",
      "Logistic Regression\n",
      "Accuracy:  0.9847350230414746\n",
      "\n",
      "\n",
      "KNN\n",
      "Accuracy:  0.9893433179723502\n",
      "\n",
      "\n",
      "Random Forest\n",
      "Accuracy:  0.9927995391705069\n",
      "\n",
      "\n",
      "Decision Tree\n",
      "Accuracy:  0.9870391705069125\n",
      "\n",
      "\n"
     ]
    }
   ],
   "source": [
    "print(\"SVM\")\n",
    "_testscores(X_train_val, Y_train_val, X_test, Y_test, _svm_clf)\n",
    "print(\"Logistic Regression\")\n",
    "_testscores(X_train_val, Y_train_val, X_test, Y_test, _lr_clf)\n",
    "print(\"KNN\")\n",
    "_testscores(X_train_val, Y_train_val, X_test, Y_test, _knn_clf)\n",
    "print(\"Random Forest\")\n",
    "_testscores(X_train_val, Y_train_val, X_test, Y_test, _rf_clf)\n",
    "print(\"Decision Tree\")\n",
    "_testscores(X_train_val, Y_train_val, X_test, Y_test, _dt_clf)"
   ]
  },
  {
   "cell_type": "markdown",
   "metadata": {},
   "source": [
    "### 50/50 Split"
   ]
  },
  {
   "cell_type": "code",
   "execution_count": 47,
   "metadata": {},
   "outputs": [
    {
     "name": "stdout",
     "output_type": "stream",
     "text": [
      "(2169, 5) (2170, 5) (2169,) (2170,)\n"
     ]
    }
   ],
   "source": [
    "# Reshuffle dataset\n",
    "wilt_data = shuffle(wilt_data).reset_index(drop=True)\n",
    "Y = wilt_data.iloc[:, 0]\n",
    "X = wilt_data.iloc[:,1:]\n",
    "\n",
    "# 50/50 split\n",
    "X_train_val = X[:int(0.5*len(X))]\n",
    "X_test = X[int(0.5*len(X)):]\n",
    "Y_train_val = Y[:int(0.5*len(Y))]\n",
    "Y_test = Y[int(0.5*len(Y)):]\n",
    "print(X_train_val.shape, X_test.shape, Y_train_val.shape, Y_test.shape)"
   ]
  },
  {
   "cell_type": "code",
   "execution_count": 48,
   "metadata": {},
   "outputs": [
    {
     "name": "stdout",
     "output_type": "stream",
     "text": [
      "SVM\n",
      "Best Param:            {'C': 100}\n",
      "Training Accuracy:     0.9866297833102813\n",
      "\n",
      "\n",
      "Logistic Regression\n",
      "Best Param:            {'C': 1000}\n",
      "Training Accuracy:     0.9852466574458276\n",
      "\n",
      "\n",
      "KNN\n",
      "Best Param:            {'n_neighbors': 1}\n",
      "Training Accuracy:     0.9884739511295528\n",
      "\n",
      "\n",
      "Random Forest\n",
      "Best Param:            {'max_features': 4}\n",
      "Training Accuracy:     0.9903181189488244\n",
      "\n",
      "\n",
      "Decision Tree\n",
      "Best Param:            {'max_depth': 5}\n",
      "Training Accuracy:     0.9880129091747349\n",
      "\n",
      "\n"
     ]
    }
   ],
   "source": [
    "print(\"SVM\")\n",
    "svm_best = _gridsearch(X_train_val, Y_train_val, svm_clf, svm_params, 3)\n",
    "print(\"Logistic Regression\")\n",
    "lr_best = _gridsearch(X_train_val, Y_train_val, lr_clf, lr_params, 3)\n",
    "print(\"KNN\")\n",
    "knn_best = _gridsearch(X_train_val, Y_train_val, knn_clf, knn_params, 3)\n",
    "print(\"Random Forest\")\n",
    "rf_best = _gridsearch(X_train_val, Y_train_val, rf_clf, rf_params, 3)\n",
    "print(\"Decision Tree\")\n",
    "dt_best = _gridsearch(X_train_val, Y_train_val, dt_clf, dt_params, 3)"
   ]
  },
  {
   "cell_type": "code",
   "execution_count": 49,
   "metadata": {},
   "outputs": [],
   "source": [
    "# Update parameters\n",
    "_svm_clf = svm.SVC(kernel='linear', C=svm_best['C'])\n",
    "_lr_clf = LogisticRegression(C=lr_best['C'])\n",
    "_knn_clf = KNeighborsClassifier(n_neighbors=knn_best['n_neighbors'])\n",
    "_rf_clf = RandomForestClassifier(n_estimators=1024, max_features=rf_best['max_features'])\n",
    "_dt_clf = DecisionTreeClassifier(max_depth=dt_best['max_depth'])"
   ]
  },
  {
   "cell_type": "code",
   "execution_count": 50,
   "metadata": {},
   "outputs": [
    {
     "name": "stdout",
     "output_type": "stream",
     "text": [
      "SVM\n",
      "Accuracy:  0.9917050691244239\n",
      "\n",
      "\n",
      "Logistic Regression\n",
      "Accuracy:  0.9907834101382489\n",
      "\n",
      "\n",
      "KNN\n",
      "Accuracy:  0.9953917050691244\n",
      "\n",
      "\n",
      "Random Forest\n",
      "Accuracy:  0.9967741935483871\n",
      "\n",
      "\n",
      "Decision Tree\n",
      "Accuracy:  0.992626728110599\n",
      "\n",
      "\n"
     ]
    }
   ],
   "source": [
    "print(\"SVM\")\n",
    "_testscores(X_train_val, Y_train_val, X_test, Y_test, _svm_clf)\n",
    "print(\"Logistic Regression\")\n",
    "_testscores(X_train_val, Y_train_val, X_test, Y_test, _lr_clf)\n",
    "print(\"KNN\")\n",
    "_testscores(X_train_val, Y_train_val, X_test, Y_test, _knn_clf)\n",
    "print(\"Random Forest\")\n",
    "_testscores(X_train_val, Y_train_val, X_test, Y_test, _rf_clf)\n",
    "print(\"Decision Tree\")\n",
    "_testscores(X_train_val, Y_train_val, X_test, Y_test, _dt_clf)"
   ]
  },
  {
   "cell_type": "markdown",
   "metadata": {},
   "source": [
    "### 80/20 Split"
   ]
  },
  {
   "cell_type": "code",
   "execution_count": 51,
   "metadata": {},
   "outputs": [
    {
     "name": "stdout",
     "output_type": "stream",
     "text": [
      "(3471, 5) (868, 5) (3471,) (868,)\n"
     ]
    }
   ],
   "source": [
    "# Reshuffle dataset\n",
    "wilt_data = shuffle(wilt_data).reset_index(drop=True)\n",
    "Y = wilt_data.iloc[:, 0]\n",
    "X = wilt_data.iloc[:,1:]\n",
    "\n",
    "# 80/20 split\n",
    "X_train_val = X[:int(0.8*len(X))]\n",
    "X_test = X[int(0.8*len(X)):]\n",
    "Y_train_val = Y[:int(0.8*len(Y))]\n",
    "Y_test = Y[int(0.8*len(Y)):]\n",
    "print(X_train_val.shape, X_test.shape, Y_train_val.shape, Y_test.shape)"
   ]
  },
  {
   "cell_type": "code",
   "execution_count": 52,
   "metadata": {},
   "outputs": [
    {
     "name": "stdout",
     "output_type": "stream",
     "text": [
      "SVM\n",
      "Best Param:            {'C': 0.01}\n",
      "Training Accuracy:     0.989628349178911\n",
      "\n",
      "\n",
      "Logistic Regression\n",
      "Best Param:            {'C': 10000}\n",
      "Training Accuracy:     0.989628349178911\n",
      "\n",
      "\n",
      "KNN\n",
      "Best Param:            {'n_neighbors': 3}\n",
      "Training Accuracy:     0.9910688562373956\n",
      "\n",
      "\n",
      "Random Forest\n",
      "Best Param:            {'max_features': 4}\n",
      "Training Accuracy:     0.9922212618841832\n",
      "\n",
      "\n",
      "Decision Tree\n",
      "Best Param:            {'max_depth': 5}\n",
      "Training Accuracy:     0.9904926534140017\n",
      "\n",
      "\n"
     ]
    }
   ],
   "source": [
    "print(\"SVM\")\n",
    "svm_best = _gridsearch(X_train_val, Y_train_val, svm_clf, svm_params, 3)\n",
    "print(\"Logistic Regression\")\n",
    "lr_best = _gridsearch(X_train_val, Y_train_val, lr_clf, lr_params, 3)\n",
    "print(\"KNN\")\n",
    "knn_best = _gridsearch(X_train_val, Y_train_val, knn_clf, knn_params, 3)\n",
    "print(\"Random Forest\")\n",
    "rf_best = _gridsearch(X_train_val, Y_train_val, rf_clf, rf_params, 3)\n",
    "print(\"Decision Tree\")\n",
    "dt_best = _gridsearch(X_train_val, Y_train_val, dt_clf, dt_params, 3)"
   ]
  },
  {
   "cell_type": "code",
   "execution_count": 53,
   "metadata": {},
   "outputs": [],
   "source": [
    "# Update parameters\n",
    "_svm_clf = svm.SVC(kernel='linear', C=svm_best['C'])\n",
    "_lr_clf = LogisticRegression(C=lr_best['C'])\n",
    "_knn_clf = KNeighborsClassifier(n_neighbors=knn_best['n_neighbors'])\n",
    "_rf_clf = RandomForestClassifier(n_estimators=1024, max_features=rf_best['max_features'])\n",
    "_dt_clf = DecisionTreeClassifier(max_depth=dt_best['max_depth'])"
   ]
  },
  {
   "cell_type": "code",
   "execution_count": 54,
   "metadata": {
    "scrolled": true
   },
   "outputs": [
    {
     "name": "stdout",
     "output_type": "stream",
     "text": [
      "SVM\n",
      "Accuracy:  0.9930875576036866\n",
      "\n",
      "\n",
      "Logistic Regression\n",
      "Accuracy:  0.9907834101382489\n",
      "\n",
      "\n",
      "KNN\n",
      "Accuracy:  0.9965437788018433\n",
      "\n",
      "\n",
      "Random Forest\n",
      "Accuracy:  0.9988479262672811\n",
      "\n",
      "\n",
      "Decision Tree\n",
      "Accuracy:  0.9976958525345622\n",
      "\n",
      "\n"
     ]
    }
   ],
   "source": [
    "print(\"SVM\")\n",
    "_testscores(X_train_val, Y_train_val, X_test, Y_test, _svm_clf)\n",
    "print(\"Logistic Regression\")\n",
    "_testscores(X_train_val, Y_train_val, X_test, Y_test, _lr_clf)\n",
    "print(\"KNN\")\n",
    "_testscores(X_train_val, Y_train_val, X_test, Y_test, _knn_clf)\n",
    "print(\"Random Forest\")\n",
    "_testscores(X_train_val, Y_train_val, X_test, Y_test, _rf_clf)\n",
    "print(\"Decision Tree\")\n",
    "_testscores(X_train_val, Y_train_val, X_test, Y_test, _dt_clf)"
   ]
  },
  {
   "cell_type": "code",
   "execution_count": null,
   "metadata": {},
   "outputs": [],
   "source": []
  }
 ],
 "metadata": {
  "kernelspec": {
   "display_name": "Python 3",
   "language": "python",
   "name": "python3"
  },
  "language_info": {
   "codemirror_mode": {
    "name": "ipython",
    "version": 3
   },
   "file_extension": ".py",
   "mimetype": "text/x-python",
   "name": "python",
   "nbconvert_exporter": "python",
   "pygments_lexer": "ipython3",
   "version": "3.6.8"
  }
 },
 "nbformat": 4,
 "nbformat_minor": 2
}
